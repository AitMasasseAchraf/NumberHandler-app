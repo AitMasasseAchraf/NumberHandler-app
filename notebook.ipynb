{
 "cells": [
  {
   "cell_type": "code",
   "execution_count": null,
   "metadata": {},
   "outputs": [],
   "source": [
    "numbers_input = \n",
    "        # Split input into a list of numbers\n",
    "type(numbers_input)\n",
    "numbers = numbers_input.split(',')\n",
    "specific_digits = ['3', '5', '7']\n",
    "print(numbers)\n",
    "matching_numbers = []\n",
    "\n",
    "# Check if numbers contain any of the specific digits\n",
    "for num in numbers:\n",
    "    if any(digit in num for digit in specific_digits):\n",
    "        matching_numbers.append(num)\n",
    "\n",
    "if matching_numbers:\n",
    "    result = f\"The numbers containing 3, 5, or 7 are: {', '.join(matching_numbers)}\"\n",
    "else:\n",
    "    result = \"No numbers contain 3, 5, or 7.\""
   ]
  }
 ],
 "metadata": {
  "language_info": {
   "name": "python"
  }
 },
 "nbformat": 4,
 "nbformat_minor": 2
}
